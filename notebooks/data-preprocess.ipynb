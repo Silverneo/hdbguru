{
 "cells": [
  {
   "cell_type": "code",
   "execution_count": 5,
   "metadata": {},
   "outputs": [],
   "source": [
    "import json\n",
    "import re\n",
    "\n",
    "import pandas as pd\n",
    "import numpy as np\n",
    "\n",
    "from lxml import etree\n",
    "import requests\n",
    "import os\n",
    "\n",
    "from pykml import parser\n",
    "# from geopy.distance import geodesic"
   ]
  },
  {
   "cell_type": "code",
   "execution_count": 8,
   "metadata": {},
   "outputs": [],
   "source": [
    "def onemap_search(placename):\n",
    "    onemapSearchUrl = \"https://developers.onemap.sg/commonapi/search?searchVal={}&returnGeom=Y&getAddrDetails=Y\"\n",
    "    res = requests.get(onemapSearchUrl.format(placename))\n",
    "    if res.status_code != 200:\n",
    "        return None\n",
    "    try:\n",
    "        res = res.json()\n",
    "    except Exception as e:\n",
    "        print(placename, e)\n",
    "    if res['found'] == 0:\n",
    "        return None\n",
    "    return res['results'][0]"
   ]
  },
  {
   "cell_type": "code",
   "execution_count": 11,
   "metadata": {},
   "outputs": [
    {
     "data": {
      "text/plain": [
       "{'ADDRESS': '5 SCIENCE PARK DRIVE SINGAPORE 118265',\n",
       " 'BLK_NO': '5',\n",
       " 'BUILDING': 'NIL',\n",
       " 'LATITUDE': '1.29207905014866',\n",
       " 'LONGITUDE': '103.786710614115',\n",
       " 'LONGTITUDE': '103.786710614115',\n",
       " 'POSTAL': '118265',\n",
       " 'ROAD_NAME': 'SCIENCE PARK DRIVE',\n",
       " 'SEARCHVAL': '5 SCIENCE PARK DRIVE SINGAPORE 118265',\n",
       " 'X': '22812.9348640535',\n",
       " 'Y': '30497.1033341698'}"
      ]
     },
     "execution_count": 11,
     "metadata": {},
     "output_type": "execute_result"
    }
   ],
   "source": [
    "onemap_search('5 science park')"
   ]
  },
  {
   "cell_type": "code",
   "execution_count": 14,
   "metadata": {},
   "outputs": [
    {
     "data": {
      "text/plain": [
       "{'ADDRESS': '5 SCIENCE PARK DRIVE SINGAPORE 118265',\n",
       " 'BLK_NO': '5',\n",
       " 'BUILDING': 'NIL',\n",
       " 'LATITUDE': '1.29207905014866',\n",
       " 'LONGITUDE': '103.786710614115',\n",
       " 'LONGTITUDE': '103.786710614115',\n",
       " 'POSTAL': '118265',\n",
       " 'ROAD_NAME': 'SCIENCE PARK DRIVE',\n",
       " 'SEARCHVAL': '5 SCIENCE PARK DRIVE SINGAPORE 118265',\n",
       " 'X': '22812.9348640535',\n",
       " 'Y': '30497.1033341698'}"
      ]
     },
     "execution_count": 14,
     "metadata": {},
     "output_type": "execute_result"
    }
   ],
   "source": [
    "onemap_search('118265')"
   ]
  },
  {
   "cell_type": "markdown",
   "metadata": {},
   "source": [
    "###### process hawker center"
   ]
  },
  {
   "cell_type": "code",
   "execution_count": 32,
   "metadata": {},
   "outputs": [],
   "source": [
    "with open('./data/_raw/hawker-centres/hawker-centres-geojson.geojson') as f:\n",
    "    hawker = json.load(f)"
   ]
  },
  {
   "cell_type": "code",
   "execution_count": 33,
   "metadata": {},
   "outputs": [
    {
     "data": {
      "text/plain": [
       "dict_keys(['crs', 'type', 'features'])"
      ]
     },
     "execution_count": 33,
     "metadata": {},
     "output_type": "execute_result"
    }
   ],
   "source": [
    "hawker.keys()"
   ]
  },
  {
   "cell_type": "code",
   "execution_count": 52,
   "metadata": {},
   "outputs": [],
   "source": [
    "name_re = re.compile(r'<th>NAME</th> <td>(.+?)</td>')\n",
    "LONGITUDE = []\n",
    "LATITUDE = []\n",
    "NAMES = []\n",
    "for feature in hawker['features']:\n",
    "#     print(feature['geometry']['coordinates'])\n",
    "#     print(re.findall(name_re, feature['properties']['Description'])[0])\n",
    "    LONGITUDE.append(feature['geometry']['coordinates'][0])\n",
    "    LATITUDE.append(feature['geometry']['coordinates'][1])\n",
    "    NAMES.append(re.findall(name_re, feature['properties']['Description'])[0])\n",
    "df_hawker = pd.DataFrame(data={'NAME':NAMES, 'LONGITUDE':LONGITUDE, 'LATITUDE':LATITUDE})"
   ]
  },
  {
   "cell_type": "code",
   "execution_count": 53,
   "metadata": {},
   "outputs": [
    {
     "data": {
      "text/html": [
       "<div>\n",
       "<style scoped>\n",
       "    .dataframe tbody tr th:only-of-type {\n",
       "        vertical-align: middle;\n",
       "    }\n",
       "\n",
       "    .dataframe tbody tr th {\n",
       "        vertical-align: top;\n",
       "    }\n",
       "\n",
       "    .dataframe thead th {\n",
       "        text-align: right;\n",
       "    }\n",
       "</style>\n",
       "<table border=\"1\" class=\"dataframe\">\n",
       "  <thead>\n",
       "    <tr style=\"text-align: right;\">\n",
       "      <th></th>\n",
       "      <th>LATITUDE</th>\n",
       "      <th>LONGITUDE</th>\n",
       "      <th>NAME</th>\n",
       "    </tr>\n",
       "  </thead>\n",
       "  <tbody>\n",
       "    <tr>\n",
       "      <th>0</th>\n",
       "      <td>1.306206</td>\n",
       "      <td>103.850531</td>\n",
       "      <td>Buffalo Road Blk 665 (Tekka Centre/Zhu Jiao Ma...</td>\n",
       "    </tr>\n",
       "    <tr>\n",
       "      <th>1</th>\n",
       "      <td>1.283693</td>\n",
       "      <td>103.816992</td>\n",
       "      <td>Bukit Merah Central Blk 163 (Bukit Merah Centr...</td>\n",
       "    </tr>\n",
       "    <tr>\n",
       "      <th>2</th>\n",
       "      <td>1.286298</td>\n",
       "      <td>103.804489</td>\n",
       "      <td>Bukit Merah Lane 1 Blk 120 (Alexandra Village ...</td>\n",
       "    </tr>\n",
       "    <tr>\n",
       "      <th>3</th>\n",
       "      <td>1.301001</td>\n",
       "      <td>103.854212</td>\n",
       "      <td>Queen Street Blk 270 (Albert Centre)</td>\n",
       "    </tr>\n",
       "    <tr>\n",
       "      <th>4</th>\n",
       "      <td>1.335231</td>\n",
       "      <td>103.857036</td>\n",
       "      <td>Toa Payoh Lorong 7 Blk 22 (Kim Keat Palm Marke...</td>\n",
       "    </tr>\n",
       "  </tbody>\n",
       "</table>\n",
       "</div>"
      ],
      "text/plain": [
       "   LATITUDE   LONGITUDE                                               NAME\n",
       "0  1.306206  103.850531  Buffalo Road Blk 665 (Tekka Centre/Zhu Jiao Ma...\n",
       "1  1.283693  103.816992  Bukit Merah Central Blk 163 (Bukit Merah Centr...\n",
       "2  1.286298  103.804489  Bukit Merah Lane 1 Blk 120 (Alexandra Village ...\n",
       "3  1.301001  103.854212               Queen Street Blk 270 (Albert Centre)\n",
       "4  1.335231  103.857036  Toa Payoh Lorong 7 Blk 22 (Kim Keat Palm Marke..."
      ]
     },
     "execution_count": 53,
     "metadata": {},
     "output_type": "execute_result"
    }
   ],
   "source": [
    "df_hawker.head()"
   ]
  },
  {
   "cell_type": "code",
   "execution_count": 54,
   "metadata": {},
   "outputs": [],
   "source": [
    "df_hawker.to_csv(\"./data/_processed/TBL_HAWKER_ADDR_INFO.csv\",index=False)"
   ]
  },
  {
   "cell_type": "code",
   "execution_count": 177,
   "metadata": {},
   "outputs": [],
   "source": [
    "df_hawker = pd.read_csv(\"./data/_processed/TBL_HAWKER_ADDR_INFO.csv\")"
   ]
  },
  {
   "cell_type": "code",
   "execution_count": 182,
   "metadata": {},
   "outputs": [
    {
     "data": {
      "text/html": [
       "<div>\n",
       "<style scoped>\n",
       "    .dataframe tbody tr th:only-of-type {\n",
       "        vertical-align: middle;\n",
       "    }\n",
       "\n",
       "    .dataframe tbody tr th {\n",
       "        vertical-align: top;\n",
       "    }\n",
       "\n",
       "    .dataframe thead th {\n",
       "        text-align: right;\n",
       "    }\n",
       "</style>\n",
       "<table border=\"1\" class=\"dataframe\">\n",
       "  <thead>\n",
       "    <tr style=\"text-align: right;\">\n",
       "      <th></th>\n",
       "      <th>LATITUDE</th>\n",
       "      <th>LONGITUDE</th>\n",
       "      <th>NAME</th>\n",
       "    </tr>\n",
       "  </thead>\n",
       "  <tbody>\n",
       "    <tr>\n",
       "      <th>0</th>\n",
       "      <td>1.306206</td>\n",
       "      <td>103.850531</td>\n",
       "      <td>Buffalo Road Blk 665 (Tekka Centre/Zhu Jiao Ma...</td>\n",
       "    </tr>\n",
       "    <tr>\n",
       "      <th>1</th>\n",
       "      <td>1.283693</td>\n",
       "      <td>103.816992</td>\n",
       "      <td>Bukit Merah Central Blk 163 (Bukit Merah Centr...</td>\n",
       "    </tr>\n",
       "    <tr>\n",
       "      <th>2</th>\n",
       "      <td>1.286298</td>\n",
       "      <td>103.804489</td>\n",
       "      <td>Bukit Merah Lane 1 Blk 120 (Alexandra Village ...</td>\n",
       "    </tr>\n",
       "    <tr>\n",
       "      <th>3</th>\n",
       "      <td>1.301001</td>\n",
       "      <td>103.854212</td>\n",
       "      <td>Queen Street Blk 270 (Albert Centre)</td>\n",
       "    </tr>\n",
       "    <tr>\n",
       "      <th>4</th>\n",
       "      <td>1.335231</td>\n",
       "      <td>103.857036</td>\n",
       "      <td>Toa Payoh Lorong 7 Blk 22 (Kim Keat Palm Marke...</td>\n",
       "    </tr>\n",
       "  </tbody>\n",
       "</table>\n",
       "</div>"
      ],
      "text/plain": [
       "   LATITUDE   LONGITUDE                                               NAME\n",
       "0  1.306206  103.850531  Buffalo Road Blk 665 (Tekka Centre/Zhu Jiao Ma...\n",
       "1  1.283693  103.816992  Bukit Merah Central Blk 163 (Bukit Merah Centr...\n",
       "2  1.286298  103.804489  Bukit Merah Lane 1 Blk 120 (Alexandra Village ...\n",
       "3  1.301001  103.854212               Queen Street Blk 270 (Albert Centre)\n",
       "4  1.335231  103.857036  Toa Payoh Lorong 7 Blk 22 (Kim Keat Palm Marke..."
      ]
     },
     "execution_count": 182,
     "metadata": {},
     "output_type": "execute_result"
    }
   ],
   "source": [
    "df_hawker.head()"
   ]
  },
  {
   "cell_type": "markdown",
   "metadata": {},
   "source": [
    "###### process MRT"
   ]
  },
  {
   "cell_type": "code",
   "execution_count": 108,
   "metadata": {},
   "outputs": [],
   "source": [
    "df_mrt = pd.read_csv(\"./data/_raw/mrt-lrt-stations/mrt_lrt_data.csv\")"
   ]
  },
  {
   "cell_type": "code",
   "execution_count": 109,
   "metadata": {},
   "outputs": [
    {
     "data": {
      "text/html": [
       "<div>\n",
       "<style scoped>\n",
       "    .dataframe tbody tr th:only-of-type {\n",
       "        vertical-align: middle;\n",
       "    }\n",
       "\n",
       "    .dataframe tbody tr th {\n",
       "        vertical-align: top;\n",
       "    }\n",
       "\n",
       "    .dataframe thead th {\n",
       "        text-align: right;\n",
       "    }\n",
       "</style>\n",
       "<table border=\"1\" class=\"dataframe\">\n",
       "  <thead>\n",
       "    <tr style=\"text-align: right;\">\n",
       "      <th></th>\n",
       "      <th>NAME</th>\n",
       "      <th>TYPE</th>\n",
       "      <th>LATITUDE</th>\n",
       "      <th>LONGITUDE</th>\n",
       "    </tr>\n",
       "  </thead>\n",
       "  <tbody>\n",
       "    <tr>\n",
       "      <th>0</th>\n",
       "      <td>Jurong East</td>\n",
       "      <td>MRT</td>\n",
       "      <td>1.333207</td>\n",
       "      <td>103.742308</td>\n",
       "    </tr>\n",
       "    <tr>\n",
       "      <th>1</th>\n",
       "      <td>Bukit Batok</td>\n",
       "      <td>MRT</td>\n",
       "      <td>1.349069</td>\n",
       "      <td>103.749596</td>\n",
       "    </tr>\n",
       "    <tr>\n",
       "      <th>2</th>\n",
       "      <td>Bukit Gombak</td>\n",
       "      <td>MRT</td>\n",
       "      <td>1.359043</td>\n",
       "      <td>103.751863</td>\n",
       "    </tr>\n",
       "    <tr>\n",
       "      <th>3</th>\n",
       "      <td>Choa Chu Kang</td>\n",
       "      <td>MRT</td>\n",
       "      <td>1.385417</td>\n",
       "      <td>103.744316</td>\n",
       "    </tr>\n",
       "    <tr>\n",
       "      <th>4</th>\n",
       "      <td>Yew Tee</td>\n",
       "      <td>MRT</td>\n",
       "      <td>1.397383</td>\n",
       "      <td>103.747523</td>\n",
       "    </tr>\n",
       "  </tbody>\n",
       "</table>\n",
       "</div>"
      ],
      "text/plain": [
       "            NAME TYPE  LATITUDE   LONGITUDE\n",
       "0    Jurong East  MRT  1.333207  103.742308\n",
       "1    Bukit Batok  MRT  1.349069  103.749596\n",
       "2   Bukit Gombak  MRT  1.359043  103.751863\n",
       "3  Choa Chu Kang  MRT  1.385417  103.744316\n",
       "4        Yew Tee  MRT  1.397383  103.747523"
      ]
     },
     "execution_count": 109,
     "metadata": {},
     "output_type": "execute_result"
    }
   ],
   "source": [
    "df_mrt.head()"
   ]
  },
  {
   "cell_type": "code",
   "execution_count": 110,
   "metadata": {},
   "outputs": [],
   "source": [
    "df_mrt.to_csv(\"./data/_processed/TBL_MRT_LRT_ADDR_INFO.csv\",index=False)"
   ]
  },
  {
   "cell_type": "code",
   "execution_count": 184,
   "metadata": {},
   "outputs": [],
   "source": [
    "df_mrt = pd.read_csv(\"./data/_processed/TBL_MRT_LRT_ADDR_INFO.csv\")"
   ]
  },
  {
   "cell_type": "code",
   "execution_count": 185,
   "metadata": {},
   "outputs": [
    {
     "data": {
      "text/html": [
       "<div>\n",
       "<style scoped>\n",
       "    .dataframe tbody tr th:only-of-type {\n",
       "        vertical-align: middle;\n",
       "    }\n",
       "\n",
       "    .dataframe tbody tr th {\n",
       "        vertical-align: top;\n",
       "    }\n",
       "\n",
       "    .dataframe thead th {\n",
       "        text-align: right;\n",
       "    }\n",
       "</style>\n",
       "<table border=\"1\" class=\"dataframe\">\n",
       "  <thead>\n",
       "    <tr style=\"text-align: right;\">\n",
       "      <th></th>\n",
       "      <th>NAME</th>\n",
       "      <th>TYPE</th>\n",
       "      <th>LATITUDE</th>\n",
       "      <th>LONGITUDE</th>\n",
       "    </tr>\n",
       "  </thead>\n",
       "  <tbody>\n",
       "    <tr>\n",
       "      <th>0</th>\n",
       "      <td>Jurong East</td>\n",
       "      <td>MRT</td>\n",
       "      <td>1.333207</td>\n",
       "      <td>103.742308</td>\n",
       "    </tr>\n",
       "    <tr>\n",
       "      <th>1</th>\n",
       "      <td>Bukit Batok</td>\n",
       "      <td>MRT</td>\n",
       "      <td>1.349069</td>\n",
       "      <td>103.749596</td>\n",
       "    </tr>\n",
       "    <tr>\n",
       "      <th>2</th>\n",
       "      <td>Bukit Gombak</td>\n",
       "      <td>MRT</td>\n",
       "      <td>1.359043</td>\n",
       "      <td>103.751863</td>\n",
       "    </tr>\n",
       "    <tr>\n",
       "      <th>3</th>\n",
       "      <td>Choa Chu Kang</td>\n",
       "      <td>MRT</td>\n",
       "      <td>1.385417</td>\n",
       "      <td>103.744316</td>\n",
       "    </tr>\n",
       "    <tr>\n",
       "      <th>4</th>\n",
       "      <td>Yew Tee</td>\n",
       "      <td>MRT</td>\n",
       "      <td>1.397383</td>\n",
       "      <td>103.747523</td>\n",
       "    </tr>\n",
       "  </tbody>\n",
       "</table>\n",
       "</div>"
      ],
      "text/plain": [
       "            NAME TYPE  LATITUDE   LONGITUDE\n",
       "0    Jurong East  MRT  1.333207  103.742308\n",
       "1    Bukit Batok  MRT  1.349069  103.749596\n",
       "2   Bukit Gombak  MRT  1.359043  103.751863\n",
       "3  Choa Chu Kang  MRT  1.385417  103.744316\n",
       "4        Yew Tee  MRT  1.397383  103.747523"
      ]
     },
     "execution_count": 185,
     "metadata": {},
     "output_type": "execute_result"
    }
   ],
   "source": [
    "df_mrt.head()"
   ]
  },
  {
   "cell_type": "markdown",
   "metadata": {},
   "source": [
    "###### process Mall"
   ]
  },
  {
   "cell_type": "code",
   "execution_count": 75,
   "metadata": {},
   "outputs": [],
   "source": [
    "res = requests.get('https://en.wikipedia.org/wiki/List_of_shopping_malls_in_Singapore')\n",
    "html = res.content\n",
    "subpage = etree.HTML(html)"
   ]
  },
  {
   "cell_type": "code",
   "execution_count": 103,
   "metadata": {},
   "outputs": [],
   "source": [
    "malls = subpage.xpath('//*[@class=\"div-col\"]/ul/li//text()')"
   ]
  },
  {
   "cell_type": "code",
   "execution_count": 104,
   "metadata": {
    "scrolled": true
   },
   "outputs": [
    {
     "data": {
      "text/plain": [
       "175"
      ]
     },
     "execution_count": 104,
     "metadata": {},
     "output_type": "execute_result"
    }
   ],
   "source": [
    "len(malls)"
   ]
  },
  {
   "cell_type": "code",
   "execution_count": 143,
   "metadata": {},
   "outputs": [],
   "source": [
    "malls = [m.split('(')[0] if \"(\" in m else m for m in malls]"
   ]
  },
  {
   "cell_type": "code",
   "execution_count": 144,
   "metadata": {},
   "outputs": [],
   "source": [
    "df_mall = pd.DataFrame(data={'NAME':malls})"
   ]
  },
  {
   "cell_type": "code",
   "execution_count": 145,
   "metadata": {},
   "outputs": [
    {
     "data": {
      "text/html": [
       "<div>\n",
       "<style scoped>\n",
       "    .dataframe tbody tr th:only-of-type {\n",
       "        vertical-align: middle;\n",
       "    }\n",
       "\n",
       "    .dataframe tbody tr th {\n",
       "        vertical-align: top;\n",
       "    }\n",
       "\n",
       "    .dataframe thead th {\n",
       "        text-align: right;\n",
       "    }\n",
       "</style>\n",
       "<table border=\"1\" class=\"dataframe\">\n",
       "  <thead>\n",
       "    <tr style=\"text-align: right;\">\n",
       "      <th></th>\n",
       "      <th>NAME</th>\n",
       "    </tr>\n",
       "  </thead>\n",
       "  <tbody>\n",
       "    <tr>\n",
       "      <th>0</th>\n",
       "      <td>100 AM</td>\n",
       "    </tr>\n",
       "    <tr>\n",
       "      <th>1</th>\n",
       "      <td>313@Somerset</td>\n",
       "    </tr>\n",
       "  </tbody>\n",
       "</table>\n",
       "</div>"
      ],
      "text/plain": [
       "           NAME\n",
       "0        100 AM\n",
       "1  313@Somerset"
      ]
     },
     "execution_count": 145,
     "metadata": {},
     "output_type": "execute_result"
    }
   ],
   "source": [
    "df_mall.head(2)"
   ]
  },
  {
   "cell_type": "code",
   "execution_count": 149,
   "metadata": {},
   "outputs": [],
   "source": [
    "df_mall['data'] = df_mall['NAME'].apply(onemap_search)"
   ]
  },
  {
   "cell_type": "code",
   "execution_count": 154,
   "metadata": {},
   "outputs": [],
   "source": [
    "df_mall['BLOCK'] = df_mall['data'].apply(lambda x: x['BLK_NO'] if x != None else None)\n",
    "df_mall['ADDRESS'] = df_mall['data'].apply(lambda x: x['ADDRESS'] if x != None else None)\n",
    "df_mall['BUILDING'] = df_mall['data'].apply(lambda x: x['BUILDING'] if x != None else None)\n",
    "df_mall['LATITUDE'] = df_mall['data'].apply(lambda x: x['LATITUDE'] if x != None else None)\n",
    "df_mall['LONGITUDE'] = df_mall['data'].apply(lambda x: x['LONGITUDE'] if x != None else None)\n",
    "df_mall['POSTAL_CODE'] = df_mall['data'].apply(lambda x: x['POSTAL'] if x != None else None)\n",
    "df_mall['STREET_NAME'] = df_mall['data'].apply(lambda x: x['ROAD_NAME'] if x != None else None)\n",
    "df_mall['X'] = df_mall['data'].apply(lambda x: x['X'] if x != None else None)\n",
    "df_mall['Y'] = df_mall['data'].apply(lambda x: x['Y'] if x != None else None)"
   ]
  },
  {
   "cell_type": "code",
   "execution_count": 156,
   "metadata": {},
   "outputs": [],
   "source": [
    "df_mall = df_mall.drop(columns=['data'])"
   ]
  },
  {
   "cell_type": "code",
   "execution_count": 188,
   "metadata": {},
   "outputs": [],
   "source": [
    "df_mall.to_csv('./data/_processed/TBL_SHOPPING_MALL_ADDR_INFO.csv',index=False)"
   ]
  },
  {
   "cell_type": "code",
   "execution_count": 189,
   "metadata": {},
   "outputs": [],
   "source": [
    "df_mall = pd.read_csv(\"./data/_processed/TBL_SHOPPING_MALL_ADDR_INFO.csv\")"
   ]
  },
  {
   "cell_type": "code",
   "execution_count": 190,
   "metadata": {},
   "outputs": [
    {
     "data": {
      "text/html": [
       "<div>\n",
       "<style scoped>\n",
       "    .dataframe tbody tr th:only-of-type {\n",
       "        vertical-align: middle;\n",
       "    }\n",
       "\n",
       "    .dataframe tbody tr th {\n",
       "        vertical-align: top;\n",
       "    }\n",
       "\n",
       "    .dataframe thead th {\n",
       "        text-align: right;\n",
       "    }\n",
       "</style>\n",
       "<table border=\"1\" class=\"dataframe\">\n",
       "  <thead>\n",
       "    <tr style=\"text-align: right;\">\n",
       "      <th></th>\n",
       "      <th>NAME</th>\n",
       "      <th>ADDRESS</th>\n",
       "      <th>BLOCK</th>\n",
       "      <th>BUILDING</th>\n",
       "      <th>LATITUDE</th>\n",
       "      <th>LONGITUDE</th>\n",
       "      <th>POSTAL_CODE</th>\n",
       "      <th>STREET_NAME</th>\n",
       "      <th>X</th>\n",
       "      <th>Y</th>\n",
       "    </tr>\n",
       "  </thead>\n",
       "  <tbody>\n",
       "    <tr>\n",
       "      <th>0</th>\n",
       "      <td>100 AM</td>\n",
       "      <td>100 TRAS STREET 100 AM SINGAPORE 079027</td>\n",
       "      <td>100</td>\n",
       "      <td>100 AM</td>\n",
       "      <td>1.274588</td>\n",
       "      <td>103.843471</td>\n",
       "      <td>079027</td>\n",
       "      <td>TRAS STREET</td>\n",
       "      <td>29129.855226</td>\n",
       "      <td>28563.012106</td>\n",
       "    </tr>\n",
       "    <tr>\n",
       "      <th>1</th>\n",
       "      <td>313@Somerset</td>\n",
       "      <td>313 ORCHARD ROAD UOB 313@SOMERSET SINGAPORE 23...</td>\n",
       "      <td>313</td>\n",
       "      <td>UOB 313@SOMERSET</td>\n",
       "      <td>1.301385</td>\n",
       "      <td>103.837684</td>\n",
       "      <td>238895</td>\n",
       "      <td>ORCHARD ROAD</td>\n",
       "      <td>28485.870911</td>\n",
       "      <td>31526.071401</td>\n",
       "    </tr>\n",
       "    <tr>\n",
       "      <th>2</th>\n",
       "      <td>Aperia</td>\n",
       "      <td>12 KALLANG AVENUE JOSIAH BABIES (APERIA) SINGA...</td>\n",
       "      <td>12</td>\n",
       "      <td>JOSIAH BABIES (APERIA)</td>\n",
       "      <td>1.309742</td>\n",
       "      <td>103.864102</td>\n",
       "      <td>339511</td>\n",
       "      <td>KALLANG AVENUE</td>\n",
       "      <td>31425.866699</td>\n",
       "      <td>32450.201191</td>\n",
       "    </tr>\n",
       "    <tr>\n",
       "      <th>3</th>\n",
       "      <td>Balestier Hill Shopping Centre</td>\n",
       "      <td>1A THOMSON ROAD BALESTIER HILL SHOPPING CENTRE...</td>\n",
       "      <td>1A</td>\n",
       "      <td>BALESTIER HILL SHOPPING CENTRE</td>\n",
       "      <td>1.325761</td>\n",
       "      <td>103.843054</td>\n",
       "      <td>301001</td>\n",
       "      <td>THOMSON ROAD</td>\n",
       "      <td>29083.463125</td>\n",
       "      <td>34221.465438</td>\n",
       "    </tr>\n",
       "    <tr>\n",
       "      <th>4</th>\n",
       "      <td>Bugis Cube</td>\n",
       "      <td>470 NORTH BRIDGE ROAD BUGIS CUBE SINGAPORE 188735</td>\n",
       "      <td>470</td>\n",
       "      <td>BUGIS CUBE</td>\n",
       "      <td>1.298195</td>\n",
       "      <td>103.855656</td>\n",
       "      <td>188735</td>\n",
       "      <td>NORTH BRIDGE ROAD</td>\n",
       "      <td>30485.905724</td>\n",
       "      <td>31173.337430</td>\n",
       "    </tr>\n",
       "  </tbody>\n",
       "</table>\n",
       "</div>"
      ],
      "text/plain": [
       "                             NAME  \\\n",
       "0                          100 AM   \n",
       "1                    313@Somerset   \n",
       "2                          Aperia   \n",
       "3  Balestier Hill Shopping Centre   \n",
       "4                      Bugis Cube   \n",
       "\n",
       "                                             ADDRESS BLOCK  \\\n",
       "0            100 TRAS STREET 100 AM SINGAPORE 079027   100   \n",
       "1  313 ORCHARD ROAD UOB 313@SOMERSET SINGAPORE 23...   313   \n",
       "2  12 KALLANG AVENUE JOSIAH BABIES (APERIA) SINGA...    12   \n",
       "3  1A THOMSON ROAD BALESTIER HILL SHOPPING CENTRE...    1A   \n",
       "4  470 NORTH BRIDGE ROAD BUGIS CUBE SINGAPORE 188735   470   \n",
       "\n",
       "                         BUILDING  LATITUDE   LONGITUDE POSTAL_CODE  \\\n",
       "0                          100 AM  1.274588  103.843471      079027   \n",
       "1                UOB 313@SOMERSET  1.301385  103.837684      238895   \n",
       "2          JOSIAH BABIES (APERIA)  1.309742  103.864102      339511   \n",
       "3  BALESTIER HILL SHOPPING CENTRE  1.325761  103.843054      301001   \n",
       "4                      BUGIS CUBE  1.298195  103.855656      188735   \n",
       "\n",
       "         STREET_NAME             X             Y  \n",
       "0        TRAS STREET  29129.855226  28563.012106  \n",
       "1       ORCHARD ROAD  28485.870911  31526.071401  \n",
       "2     KALLANG AVENUE  31425.866699  32450.201191  \n",
       "3       THOMSON ROAD  29083.463125  34221.465438  \n",
       "4  NORTH BRIDGE ROAD  30485.905724  31173.337430  "
      ]
     },
     "execution_count": 190,
     "metadata": {},
     "output_type": "execute_result"
    }
   ],
   "source": [
    "df_mall.head()"
   ]
  },
  {
   "cell_type": "code",
   "execution_count": null,
   "metadata": {},
   "outputs": [],
   "source": []
  },
  {
   "cell_type": "markdown",
   "metadata": {},
   "source": [
    "###### process School"
   ]
  },
  {
   "cell_type": "code",
   "execution_count": 161,
   "metadata": {},
   "outputs": [],
   "source": [
    "df_school = pd.read_csv(\"./data/_processed/TBL_SCHOOL_INFO.csv.gzip\", sep=\"|\", dtype={\"POSTAL_CODE\":'object'})"
   ]
  },
  {
   "cell_type": "code",
   "execution_count": 163,
   "metadata": {},
   "outputs": [
    {
     "data": {
      "text/html": [
       "<div>\n",
       "<style scoped>\n",
       "    .dataframe tbody tr th:only-of-type {\n",
       "        vertical-align: middle;\n",
       "    }\n",
       "\n",
       "    .dataframe tbody tr th {\n",
       "        vertical-align: top;\n",
       "    }\n",
       "\n",
       "    .dataframe thead th {\n",
       "        text-align: right;\n",
       "    }\n",
       "</style>\n",
       "<table border=\"1\" class=\"dataframe\">\n",
       "  <thead>\n",
       "    <tr style=\"text-align: right;\">\n",
       "      <th></th>\n",
       "      <th>SCHOOL_NAME</th>\n",
       "      <th>URL_ADDRESS</th>\n",
       "      <th>ADDRESS</th>\n",
       "      <th>POSTAL_CODE</th>\n",
       "      <th>TELEPHONE_NO</th>\n",
       "      <th>TELEPHONE_NO_2</th>\n",
       "      <th>FAX_NO</th>\n",
       "      <th>FAX_NO_2</th>\n",
       "      <th>EMAIL_ADDRESS</th>\n",
       "      <th>MRT_DESC</th>\n",
       "      <th>...</th>\n",
       "      <th>SESSION_CODE</th>\n",
       "      <th>MAINLEVEL_CODE</th>\n",
       "      <th>SAP_IND</th>\n",
       "      <th>AUTONOMOUS_IND</th>\n",
       "      <th>GIFTED_IND</th>\n",
       "      <th>IP_IND</th>\n",
       "      <th>MOTHERTONGUE1_CODE</th>\n",
       "      <th>MOTHERTONGUE2_CODE</th>\n",
       "      <th>MOTHERTONGUE3_CODE</th>\n",
       "      <th>SPECIAL_SDP_OFFERED</th>\n",
       "    </tr>\n",
       "  </thead>\n",
       "  <tbody>\n",
       "    <tr>\n",
       "      <th>0</th>\n",
       "      <td>ADMIRALTY PRIMARY SCHOOL</td>\n",
       "      <td>http://www.admiraltypri.moe.edu.sg/</td>\n",
       "      <td>11   WOODLANDS CIRCLE</td>\n",
       "      <td>738907</td>\n",
       "      <td>63620598</td>\n",
       "      <td>NaN</td>\n",
       "      <td>63627512</td>\n",
       "      <td>NaN</td>\n",
       "      <td>ADMIRALTY_PS@MOE.EDU.SG</td>\n",
       "      <td>Admiralty Station</td>\n",
       "      <td>...</td>\n",
       "      <td>FULL DAY</td>\n",
       "      <td>PRIMARY</td>\n",
       "      <td>0</td>\n",
       "      <td>0</td>\n",
       "      <td>0</td>\n",
       "      <td>0</td>\n",
       "      <td>Chinese</td>\n",
       "      <td>Malay</td>\n",
       "      <td>Tamil</td>\n",
       "      <td>With globalization, it is important for our st...</td>\n",
       "    </tr>\n",
       "    <tr>\n",
       "      <th>1</th>\n",
       "      <td>ADMIRALTY SECONDARY SCHOOL</td>\n",
       "      <td>http://www.admiraltysec.moe.edu.sg</td>\n",
       "      <td>31   WOODLANDS CRESCENT</td>\n",
       "      <td>737916</td>\n",
       "      <td>63651733</td>\n",
       "      <td>63654596</td>\n",
       "      <td>63652774</td>\n",
       "      <td>NaN</td>\n",
       "      <td>Admiralty_SS@moe.edu.sg</td>\n",
       "      <td>ADMIRALTY MRT</td>\n",
       "      <td>...</td>\n",
       "      <td>SINGLE SESSION</td>\n",
       "      <td>SECONDARY</td>\n",
       "      <td>0</td>\n",
       "      <td>0</td>\n",
       "      <td>0</td>\n",
       "      <td>0</td>\n",
       "      <td>Chinese</td>\n",
       "      <td>Malay</td>\n",
       "      <td>Tamil</td>\n",
       "      <td>Design Thinking is used as an anchor pedagogic...</td>\n",
       "    </tr>\n",
       "  </tbody>\n",
       "</table>\n",
       "<p>2 rows × 29 columns</p>\n",
       "</div>"
      ],
      "text/plain": [
       "                  SCHOOL_NAME                          URL_ADDRESS  \\\n",
       "0    ADMIRALTY PRIMARY SCHOOL  http://www.admiraltypri.moe.edu.sg/   \n",
       "1  ADMIRALTY SECONDARY SCHOOL   http://www.admiraltysec.moe.edu.sg   \n",
       "\n",
       "                   ADDRESS POSTAL_CODE TELEPHONE_NO TELEPHONE_NO_2    FAX_NO  \\\n",
       "0    11   WOODLANDS CIRCLE      738907     63620598            NaN  63627512   \n",
       "1  31   WOODLANDS CRESCENT      737916     63651733       63654596  63652774   \n",
       "\n",
       "  FAX_NO_2            EMAIL_ADDRESS           MRT_DESC  ...    SESSION_CODE  \\\n",
       "0      NaN  ADMIRALTY_PS@MOE.EDU.SG  Admiralty Station  ...        FULL DAY   \n",
       "1      NaN  Admiralty_SS@moe.edu.sg      ADMIRALTY MRT  ...  SINGLE SESSION   \n",
       "\n",
       "  MAINLEVEL_CODE SAP_IND AUTONOMOUS_IND GIFTED_IND IP_IND MOTHERTONGUE1_CODE  \\\n",
       "0        PRIMARY       0              0          0      0            Chinese   \n",
       "1      SECONDARY       0              0          0      0            Chinese   \n",
       "\n",
       "  MOTHERTONGUE2_CODE MOTHERTONGUE3_CODE  \\\n",
       "0              Malay              Tamil   \n",
       "1              Malay              Tamil   \n",
       "\n",
       "                                 SPECIAL_SDP_OFFERED  \n",
       "0  With globalization, it is important for our st...  \n",
       "1  Design Thinking is used as an anchor pedagogic...  \n",
       "\n",
       "[2 rows x 29 columns]"
      ]
     },
     "execution_count": 163,
     "metadata": {},
     "output_type": "execute_result"
    }
   ],
   "source": [
    "df_school.head(2)"
   ]
  },
  {
   "cell_type": "code",
   "execution_count": 164,
   "metadata": {},
   "outputs": [],
   "source": [
    "df_school['data'] = df_school['ADDRESS'].apply(onemap_search)"
   ]
  },
  {
   "cell_type": "code",
   "execution_count": 170,
   "metadata": {},
   "outputs": [],
   "source": [
    "df_school['BLOCK'] = df_school['data'].apply(lambda x: x['BLK_NO'] if x != None else None)\n",
    "df_school['ADDRESS'] = df_school['data'].apply(lambda x: x['ADDRESS'] if x != None else None)\n",
    "df_school['BUILDING'] = df_school['data'].apply(lambda x: x['BUILDING'] if x != None else None)\n",
    "df_school['LATITUDE'] = df_school['data'].apply(lambda x: x['LATITUDE'] if x != None else None)\n",
    "df_school['LONGITUDE'] = df_school['data'].apply(lambda x: x['LONGITUDE'] if x != None else None)\n",
    "df_school['POSTAL_CODE'] = df_school['data'].apply(lambda x: x['POSTAL'] if x != None else None)\n",
    "df_school['STREET_NAME'] = df_school['data'].apply(lambda x: x['ROAD_NAME'] if x != None else None)\n",
    "df_school['X'] = df_school['data'].apply(lambda x: x['X'] if x != None else None)\n",
    "df_school['Y'] = df_school['data'].apply(lambda x: x['Y'] if x != None else None)"
   ]
  },
  {
   "cell_type": "code",
   "execution_count": 173,
   "metadata": {},
   "outputs": [],
   "source": [
    "df_school = df_school[['SCHOOL_NAME', 'ADDRESS', 'BLOCK', 'BUILDING',\n",
    "       'LATITUDE', 'LONGITUDE', 'STREET_NAME', 'X', 'Y', 'POSTAL']]"
   ]
  },
  {
   "cell_type": "code",
   "execution_count": 194,
   "metadata": {},
   "outputs": [],
   "source": [
    "df_school.rename(columns={'SCHOOL_NAME':'NAME'},inplace=True)"
   ]
  },
  {
   "cell_type": "code",
   "execution_count": 197,
   "metadata": {},
   "outputs": [
    {
     "data": {
      "text/html": [
       "<div>\n",
       "<style scoped>\n",
       "    .dataframe tbody tr th:only-of-type {\n",
       "        vertical-align: middle;\n",
       "    }\n",
       "\n",
       "    .dataframe tbody tr th {\n",
       "        vertical-align: top;\n",
       "    }\n",
       "\n",
       "    .dataframe thead th {\n",
       "        text-align: right;\n",
       "    }\n",
       "</style>\n",
       "<table border=\"1\" class=\"dataframe\">\n",
       "  <thead>\n",
       "    <tr style=\"text-align: right;\">\n",
       "      <th></th>\n",
       "      <th>NAME</th>\n",
       "      <th>ADDRESS</th>\n",
       "      <th>BLOCK</th>\n",
       "      <th>BUILDING</th>\n",
       "      <th>LATITUDE</th>\n",
       "      <th>LONGITUDE</th>\n",
       "      <th>STREET_NAME</th>\n",
       "      <th>X</th>\n",
       "      <th>Y</th>\n",
       "      <th>POSTAL_CODE</th>\n",
       "    </tr>\n",
       "  </thead>\n",
       "  <tbody>\n",
       "    <tr>\n",
       "      <th>0</th>\n",
       "      <td>ADMIRALTY PRIMARY SCHOOL</td>\n",
       "      <td>11 WOODLANDS CIRCLE ADMIRALTY PRIMARY SCHOOL S...</td>\n",
       "      <td>11</td>\n",
       "      <td>ADMIRALTY PRIMARY SCHOOL</td>\n",
       "      <td>1.44267961678131</td>\n",
       "      <td>103.800114351557</td>\n",
       "      <td>WOODLANDS CIRCLE</td>\n",
       "      <td>24304.8860053159</td>\n",
       "      <td>47149.7266234159</td>\n",
       "      <td>738907</td>\n",
       "    </tr>\n",
       "    <tr>\n",
       "      <th>1</th>\n",
       "      <td>ADMIRALTY SECONDARY SCHOOL</td>\n",
       "      <td>31 WOODLANDS CRESCENT ADMIRALTY SECONDARY SCHO...</td>\n",
       "      <td>31</td>\n",
       "      <td>ADMIRALTY SECONDARY SCHOOL</td>\n",
       "      <td>1.44589068910991</td>\n",
       "      <td>103.802398196596</td>\n",
       "      <td>WOODLANDS CRESCENT</td>\n",
       "      <td>24559.0472937012</td>\n",
       "      <td>47504.7873554379</td>\n",
       "      <td>737916</td>\n",
       "    </tr>\n",
       "  </tbody>\n",
       "</table>\n",
       "</div>"
      ],
      "text/plain": [
       "                         NAME  \\\n",
       "0    ADMIRALTY PRIMARY SCHOOL   \n",
       "1  ADMIRALTY SECONDARY SCHOOL   \n",
       "\n",
       "                                             ADDRESS BLOCK  \\\n",
       "0  11 WOODLANDS CIRCLE ADMIRALTY PRIMARY SCHOOL S...    11   \n",
       "1  31 WOODLANDS CRESCENT ADMIRALTY SECONDARY SCHO...    31   \n",
       "\n",
       "                     BUILDING          LATITUDE         LONGITUDE  \\\n",
       "0    ADMIRALTY PRIMARY SCHOOL  1.44267961678131  103.800114351557   \n",
       "1  ADMIRALTY SECONDARY SCHOOL  1.44589068910991  103.802398196596   \n",
       "\n",
       "          STREET_NAME                 X                 Y POSTAL_CODE  \n",
       "0    WOODLANDS CIRCLE  24304.8860053159  47149.7266234159      738907  \n",
       "1  WOODLANDS CRESCENT  24559.0472937012  47504.7873554379      737916  "
      ]
     },
     "execution_count": 197,
     "metadata": {},
     "output_type": "execute_result"
    }
   ],
   "source": [
    "df_school.head(2)"
   ]
  },
  {
   "cell_type": "code",
   "execution_count": 198,
   "metadata": {},
   "outputs": [],
   "source": [
    "df_school.to_csv('./data/_processed/TBL_SCHOOL_ADDR_INFO.csv',index=False)"
   ]
  },
  {
   "cell_type": "code",
   "execution_count": 199,
   "metadata": {},
   "outputs": [],
   "source": [
    "df_school = pd.read_csv(\"./data/_processed/TBL_SCHOOL_ADDR_INFO.csv\")"
   ]
  },
  {
   "cell_type": "code",
   "execution_count": 200,
   "metadata": {},
   "outputs": [
    {
     "data": {
      "text/html": [
       "<div>\n",
       "<style scoped>\n",
       "    .dataframe tbody tr th:only-of-type {\n",
       "        vertical-align: middle;\n",
       "    }\n",
       "\n",
       "    .dataframe tbody tr th {\n",
       "        vertical-align: top;\n",
       "    }\n",
       "\n",
       "    .dataframe thead th {\n",
       "        text-align: right;\n",
       "    }\n",
       "</style>\n",
       "<table border=\"1\" class=\"dataframe\">\n",
       "  <thead>\n",
       "    <tr style=\"text-align: right;\">\n",
       "      <th></th>\n",
       "      <th>NAME</th>\n",
       "      <th>ADDRESS</th>\n",
       "      <th>BLOCK</th>\n",
       "      <th>BUILDING</th>\n",
       "      <th>LATITUDE</th>\n",
       "      <th>LONGITUDE</th>\n",
       "      <th>STREET_NAME</th>\n",
       "      <th>X</th>\n",
       "      <th>Y</th>\n",
       "      <th>POSTAL_CODE</th>\n",
       "    </tr>\n",
       "  </thead>\n",
       "  <tbody>\n",
       "    <tr>\n",
       "      <th>0</th>\n",
       "      <td>ADMIRALTY PRIMARY SCHOOL</td>\n",
       "      <td>11 WOODLANDS CIRCLE ADMIRALTY PRIMARY SCHOOL S...</td>\n",
       "      <td>11</td>\n",
       "      <td>ADMIRALTY PRIMARY SCHOOL</td>\n",
       "      <td>1.442680</td>\n",
       "      <td>103.800114</td>\n",
       "      <td>WOODLANDS CIRCLE</td>\n",
       "      <td>24304.886005</td>\n",
       "      <td>47149.726623</td>\n",
       "      <td>738907</td>\n",
       "    </tr>\n",
       "    <tr>\n",
       "      <th>1</th>\n",
       "      <td>ADMIRALTY SECONDARY SCHOOL</td>\n",
       "      <td>31 WOODLANDS CRESCENT ADMIRALTY SECONDARY SCHO...</td>\n",
       "      <td>31</td>\n",
       "      <td>ADMIRALTY SECONDARY SCHOOL</td>\n",
       "      <td>1.445891</td>\n",
       "      <td>103.802398</td>\n",
       "      <td>WOODLANDS CRESCENT</td>\n",
       "      <td>24559.047294</td>\n",
       "      <td>47504.787355</td>\n",
       "      <td>737916</td>\n",
       "    </tr>\n",
       "    <tr>\n",
       "      <th>2</th>\n",
       "      <td>AHMAD IBRAHIM PRIMARY SCHOOL</td>\n",
       "      <td>10 YISHUN STREET 11 AHMAD IBRAHIM PRIMARY SCHO...</td>\n",
       "      <td>10</td>\n",
       "      <td>AHMAD IBRAHIM PRIMARY SCHOOL</td>\n",
       "      <td>1.433681</td>\n",
       "      <td>103.832924</td>\n",
       "      <td>YISHUN STREET 11</td>\n",
       "      <td>27956.121629</td>\n",
       "      <td>46154.700680</td>\n",
       "      <td>768643</td>\n",
       "    </tr>\n",
       "    <tr>\n",
       "      <th>3</th>\n",
       "      <td>AHMAD IBRAHIM SECONDARY SCHOOL</td>\n",
       "      <td>751 YISHUN AVENUE 7 AHMAD IBRAHIM SECONDARY SC...</td>\n",
       "      <td>751</td>\n",
       "      <td>AHMAD IBRAHIM SECONDARY SCHOOL</td>\n",
       "      <td>1.436235</td>\n",
       "      <td>103.829986</td>\n",
       "      <td>YISHUN AVENUE 7</td>\n",
       "      <td>27629.184969</td>\n",
       "      <td>46437.102724</td>\n",
       "      <td>768928</td>\n",
       "    </tr>\n",
       "    <tr>\n",
       "      <th>4</th>\n",
       "      <td>AI TONG SCHOOL</td>\n",
       "      <td>100 BRIGHT HILL DRIVE AI TONG SCHOOL SINGAPORE...</td>\n",
       "      <td>100</td>\n",
       "      <td>AI TONG SCHOOL</td>\n",
       "      <td>1.360736</td>\n",
       "      <td>103.833076</td>\n",
       "      <td>BRIGHT HILL DRIVE</td>\n",
       "      <td>27972.965368</td>\n",
       "      <td>38088.829447</td>\n",
       "      <td>579646</td>\n",
       "    </tr>\n",
       "  </tbody>\n",
       "</table>\n",
       "</div>"
      ],
      "text/plain": [
       "                             NAME  \\\n",
       "0        ADMIRALTY PRIMARY SCHOOL   \n",
       "1      ADMIRALTY SECONDARY SCHOOL   \n",
       "2    AHMAD IBRAHIM PRIMARY SCHOOL   \n",
       "3  AHMAD IBRAHIM SECONDARY SCHOOL   \n",
       "4                  AI TONG SCHOOL   \n",
       "\n",
       "                                             ADDRESS BLOCK  \\\n",
       "0  11 WOODLANDS CIRCLE ADMIRALTY PRIMARY SCHOOL S...    11   \n",
       "1  31 WOODLANDS CRESCENT ADMIRALTY SECONDARY SCHO...    31   \n",
       "2  10 YISHUN STREET 11 AHMAD IBRAHIM PRIMARY SCHO...    10   \n",
       "3  751 YISHUN AVENUE 7 AHMAD IBRAHIM SECONDARY SC...   751   \n",
       "4  100 BRIGHT HILL DRIVE AI TONG SCHOOL SINGAPORE...   100   \n",
       "\n",
       "                         BUILDING  LATITUDE   LONGITUDE         STREET_NAME  \\\n",
       "0        ADMIRALTY PRIMARY SCHOOL  1.442680  103.800114    WOODLANDS CIRCLE   \n",
       "1      ADMIRALTY SECONDARY SCHOOL  1.445891  103.802398  WOODLANDS CRESCENT   \n",
       "2    AHMAD IBRAHIM PRIMARY SCHOOL  1.433681  103.832924    YISHUN STREET 11   \n",
       "3  AHMAD IBRAHIM SECONDARY SCHOOL  1.436235  103.829986     YISHUN AVENUE 7   \n",
       "4                  AI TONG SCHOOL  1.360736  103.833076   BRIGHT HILL DRIVE   \n",
       "\n",
       "              X             Y POSTAL_CODE  \n",
       "0  24304.886005  47149.726623      738907  \n",
       "1  24559.047294  47504.787355      737916  \n",
       "2  27956.121629  46154.700680      768643  \n",
       "3  27629.184969  46437.102724      768928  \n",
       "4  27972.965368  38088.829447      579646  "
      ]
     },
     "execution_count": 200,
     "metadata": {},
     "output_type": "execute_result"
    }
   ],
   "source": [
    "df_school.head()"
   ]
  },
  {
   "cell_type": "code",
   "execution_count": null,
   "metadata": {},
   "outputs": [],
   "source": []
  },
  {
   "cell_type": "markdown",
   "metadata": {},
   "source": [
    "###### compute distance from facility to HDB block"
   ]
  },
  {
   "cell_type": "code",
   "execution_count": 202,
   "metadata": {},
   "outputs": [],
   "source": [
    "def nearest_distance(hdb_row, fac_df):\n",
    "    hdb_lat, hdb_lon = hdb_row[['LATITUDE','LONGITUDE']]\n",
    "    nearest_dist = np.inf\n",
    "    for fac_lat, fac_lon in zip(fac_df['LATITUDE'], fac_df['LONGITUDE']):\n",
    "        dist = geodesic((hdb_lat, hdb_lon), (fac_lat, fac_lon)).m\n",
    "        if dist < nearest_dist:\n",
    "            nearest_dist = dist\n",
    "    return nearest_dist"
   ]
  },
  {
   "cell_type": "code",
   "execution_count": 203,
   "metadata": {},
   "outputs": [],
   "source": [
    "df_hdb = pd.read_csv(\"./data/_processed/TBL_HDB_ADDR_INFO.csv.gzip\", sep=\"|\", dtype={\"POSTAL_CODE\":'object'})"
   ]
  },
  {
   "cell_type": "code",
   "execution_count": 204,
   "metadata": {},
   "outputs": [
    {
     "data": {
      "text/html": [
       "<div>\n",
       "<style scoped>\n",
       "    .dataframe tbody tr th:only-of-type {\n",
       "        vertical-align: middle;\n",
       "    }\n",
       "\n",
       "    .dataframe tbody tr th {\n",
       "        vertical-align: top;\n",
       "    }\n",
       "\n",
       "    .dataframe thead th {\n",
       "        text-align: right;\n",
       "    }\n",
       "</style>\n",
       "<table border=\"1\" class=\"dataframe\">\n",
       "  <thead>\n",
       "    <tr style=\"text-align: right;\">\n",
       "      <th></th>\n",
       "      <th>TOWN</th>\n",
       "      <th>BLOCK</th>\n",
       "      <th>STREET_NAME</th>\n",
       "      <th>POSTAL_CODE</th>\n",
       "      <th>ADDRESS</th>\n",
       "      <th>BUILDING</th>\n",
       "      <th>LATITUDE</th>\n",
       "      <th>LONGITUDE</th>\n",
       "      <th>X</th>\n",
       "      <th>Y</th>\n",
       "    </tr>\n",
       "  </thead>\n",
       "  <tbody>\n",
       "    <tr>\n",
       "      <th>0</th>\n",
       "      <td>KALLANG/WHAMPOA</td>\n",
       "      <td>1</td>\n",
       "      <td>BEACH RD</td>\n",
       "      <td>190001</td>\n",
       "      <td>1 BEACH ROAD BEACH ROAD GARDENS SINGAPORE 190001</td>\n",
       "      <td>BEACH ROAD GARDENS</td>\n",
       "      <td>1.303671</td>\n",
       "      <td>103.864479</td>\n",
       "      <td>31467.832743</td>\n",
       "      <td>31778.893997</td>\n",
       "    </tr>\n",
       "    <tr>\n",
       "      <th>1</th>\n",
       "      <td>BEDOK</td>\n",
       "      <td>1</td>\n",
       "      <td>BEDOK STH AVE 1</td>\n",
       "      <td>460001</td>\n",
       "      <td>1 BEDOK SOUTH AVENUE 1 SINGAPORE 460001</td>\n",
       "      <td>NIL</td>\n",
       "      <td>1.320852</td>\n",
       "      <td>103.933721</td>\n",
       "      <td>39173.812353</td>\n",
       "      <td>33678.855652</td>\n",
       "    </tr>\n",
       "  </tbody>\n",
       "</table>\n",
       "</div>"
      ],
      "text/plain": [
       "              TOWN BLOCK      STREET_NAME POSTAL_CODE  \\\n",
       "0  KALLANG/WHAMPOA     1         BEACH RD      190001   \n",
       "1            BEDOK     1  BEDOK STH AVE 1      460001   \n",
       "\n",
       "                                            ADDRESS            BUILDING  \\\n",
       "0  1 BEACH ROAD BEACH ROAD GARDENS SINGAPORE 190001  BEACH ROAD GARDENS   \n",
       "1           1 BEDOK SOUTH AVENUE 1 SINGAPORE 460001                 NIL   \n",
       "\n",
       "   LATITUDE   LONGITUDE             X             Y  \n",
       "0  1.303671  103.864479  31467.832743  31778.893997  \n",
       "1  1.320852  103.933721  39173.812353  33678.855652  "
      ]
     },
     "execution_count": 204,
     "metadata": {},
     "output_type": "execute_result"
    }
   ],
   "source": [
    "df_hdb.head(2)"
   ]
  },
  {
   "cell_type": "code",
   "execution_count": 207,
   "metadata": {},
   "outputs": [],
   "source": [
    "hawker_dist = df_hdb.apply(nearest_distance, axis=1, fac_df=df_hawker)"
   ]
  },
  {
   "cell_type": "code",
   "execution_count": 208,
   "metadata": {},
   "outputs": [],
   "source": [
    "df_hdb_neighbor = pd.DataFrame({'ADDRESS': df_hdb['ADDRESS'], 'hawker_dist': hawker_dist})"
   ]
  },
  {
   "cell_type": "code",
   "execution_count": 213,
   "metadata": {},
   "outputs": [
    {
     "data": {
      "text/plain": [
       "2.8676263652034715"
      ]
     },
     "execution_count": 213,
     "metadata": {},
     "output_type": "execute_result"
    }
   ],
   "source": [
    "df_hdb_neighbor['hawker_dist'].max()"
   ]
  },
  {
   "cell_type": "code",
   "execution_count": null,
   "metadata": {},
   "outputs": [],
   "source": []
  }
 ],
 "metadata": {
  "kernelspec": {
   "display_name": "Python 3",
   "language": "python",
   "name": "python3"
  },
  "language_info": {
   "codemirror_mode": {
    "name": "ipython",
    "version": 3
   },
   "file_extension": ".py",
   "mimetype": "text/x-python",
   "name": "python",
   "nbconvert_exporter": "python",
   "pygments_lexer": "ipython3",
   "version": "3.6.1"
  }
 },
 "nbformat": 4,
 "nbformat_minor": 2
}
